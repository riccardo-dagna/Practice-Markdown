{
  "cells": [
    {
      "cell_type": "markdown",
      "metadata": {
        "id": "view-in-github",
        "colab_type": "text"
      },
      "source": [
        "<a href=\"https://colab.research.google.com/github/riccardo-dagna/Practice-Markdown/blob/main/Practice_Markdown.ipynb\" target=\"_parent\"><img src=\"https://colab.research.google.com/assets/colab-badge.svg\" alt=\"Open In Colab\"/></a>"
      ]
    },
    {
      "cell_type": "markdown",
      "metadata": {
        "id": "SA5TH4eCYYge"
      },
      "source": [
        "## Practice Markdown"
      ]
    },
    {
      "cell_type": "markdown",
      "metadata": {
        "id": "WFIf8eRkYYgk"
      },
      "source": [
        "This notebook lets you experiment with producing repeatable technical documentation.  Use this notebook to do the following actions:\n",
        "\n",
        "* Create a code cell and print a Python Hello World statement:  `print(\"hello world\")`\n",
        "* Create a Markdown Cell and add a Title using `#` and then a statement using plain text.  You can looks at the source code for this cell to get an idea of how to use Markdown.\n",
        "* Take some ideas from the [Master Markdown Github Guide](https://guides.github.com/features/mastering-markdown/) and implement them here.\n",
        "* Download this notebook as a `.ipynb` file and check into a Github Project.  You can [see an example here](https://github.com/noahgift/duke-coursera-ccf-lab1/blob/main/Practice-Markdown.ipynb).\n",
        "* Open your notebook in Google Colab and save it into the same Github Project.  You can [see an example here](https://github.com/noahgift/duke-coursera-ccf-lab1/blob/main/Practice_Markdown_with_colab.ipynb).\n"
      ]
    },
    {
      "cell_type": "code",
      "execution_count": null,
      "metadata": {
        "id": "CvaTptQTYYgo",
        "outputId": "a372e02f-8147-4ac7-98e2-4a1d4ac1bfd4"
      },
      "outputs": [
        {
          "name": "stdout",
          "output_type": "stream",
          "text": [
            "hello world\n"
          ]
        }
      ],
      "source": [
        "print(\"hello world\")"
      ]
    },
    {
      "cell_type": "code",
      "execution_count": null,
      "metadata": {
        "id": "1tuztL1xYYgq"
      },
      "outputs": [],
      "source": [
        "#Hello to everybody, this is my first practice with Markdown."
      ]
    },
    {
      "cell_type": "code",
      "execution_count": null,
      "metadata": {
        "id": "-TDdUbG8YYgr"
      },
      "outputs": [],
      "source": [
        "##This is a second-level heading for this chapter."
      ]
    },
    {
      "cell_type": "code",
      "execution_count": null,
      "metadata": {
        "id": "AKtu2P7iYYgs"
      },
      "outputs": [],
      "source": [
        "In this part I will **make my text bold** or even *italics, no way*. ~~This part is wrong, so we will delete it later.~~ **But this part is _extremely_ important*.\n",
        "I think that `#0161DA` is a pretty nice color, don't you say?\n",
        "\n",
        "My favourite unordered list is:\n",
        "    -this \n",
        "    +that\n",
        "    *those\n",
        "\n",
        "My favourite ordered list is:\n",
        "    1. this\n",
        "    2. that\n",
        "    3. those\n",
        "    \n",
        "A list of things to do:\n",
        "    - [] Create list\n",
        "    - [] Mark item in list\n",
        "    - [] Reward for the list\n",
        "    - [] \\(Optional) Create another list of things to do\n",
        "\n"
      ]
    },
    {
      "cell_type": "code",
      "execution_count": null,
      "metadata": {
        "id": "3ACM4h4rYYgu"
      },
      "outputs": [],
      "source": [
        "##This heading is for the quotes"
      ]
    },
    {
      "cell_type": "code",
      "execution_count": null,
      "metadata": {
        "id": "lXaQbaMvYYgz"
      },
      "outputs": [],
      "source": [
        "This part will contain quotes.\n",
        "> You miss 100 percent of the shots you don't take. Wayne Gretzky. -Michael Scott\n",
        "\n",
        "And now we will try to create code quotes.\n",
        "'''\n",
        "git commit\n",
        "'''\n",
        "\n"
      ]
    }
  ],
  "metadata": {
    "kernelspec": {
      "display_name": "Python 3",
      "language": "python",
      "name": "python3"
    },
    "language_info": {
      "codemirror_mode": {
        "name": "ipython",
        "version": 3
      },
      "file_extension": ".py",
      "mimetype": "text/x-python",
      "name": "python",
      "nbconvert_exporter": "python",
      "pygments_lexer": "ipython3",
      "version": "3.7.6"
    },
    "colab": {
      "provenance": [],
      "include_colab_link": true
    }
  },
  "nbformat": 4,
  "nbformat_minor": 0
}